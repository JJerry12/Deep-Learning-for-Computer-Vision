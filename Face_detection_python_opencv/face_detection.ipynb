{
 "cells": [
  {
   "cell_type": "markdown",
   "metadata": {
    "id": "X-q7VKZPH6DP"
   },
   "source": [
    "## 參考https://steam.oxxostudio.tw/category/python/ai/ai-face-dectection.html"
   ]
  },
  {
   "cell_type": "code",
   "execution_count": 56,
   "metadata": {
    "id": "v9VapZmjPaMN"
   },
   "outputs": [],
   "source": [
    "import cv2"
   ]
  },
  {
   "cell_type": "code",
   "execution_count": 57,
   "metadata": {
    "id": "1lF77aEhPu5B"
   },
   "outputs": [],
   "source": [
    "# 載入臉部級聯分類器(face cascade file)\n",
    "face_cascade = cv2.CascadeClassifier('./haarcascade_frontalface_default.xml')"
   ]
  },
  {
   "cell_type": "markdown",
   "metadata": {},
   "source": [
    "## 辨識圖片中的人臉"
   ]
  },
  {
   "cell_type": "code",
   "execution_count": 62,
   "metadata": {
    "id": "xkoBZ9vDTH85"
   },
   "outputs": [],
   "source": [
    "# 載入圖片\n",
    "img = cv2.imread('face_demo.jpg')\n",
    "img = cv2.resize(img,(665,500))     # 縮小尺寸，避免尺寸過大導致效能不好\n",
    "gray_img = cv2.cvtColor(img, cv2.COLOR_BGR2GRAY)   # 轉灰階\n",
    "\n",
    "faces = face_cascade.detectMultiScale(gray_img)    # 偵測人臉\n",
    "\n",
    "for (x, y, w, h) in faces:\n",
    "    cv2.rectangle(img, (x, y), (x+w, y+h), (0, 0, 255), 2)    # 抓取每個人臉屬性，繪製方框\n",
    "\n",
    "cv2.imshow('face_detection',img)\n",
    "cv2.waitKey(0)              # 按下任意鍵停止\n",
    "cv2.destroyAllWindows()     # 結束所有視窗"
   ]
  },
  {
   "cell_type": "code",
   "execution_count": 63,
   "metadata": {},
   "outputs": [
    {
     "data": {
      "text/plain": [
       "True"
      ]
     },
     "execution_count": 63,
     "metadata": {},
     "output_type": "execute_result"
    }
   ],
   "source": [
    "# 儲存圖片\n",
    "cv2.imwrite(\"face_demo_output.jpg\", img, [cv2.IMWRITE_JPEG_QUALITY, 100])"
   ]
  },
  {
   "cell_type": "markdown",
   "metadata": {},
   "source": [
    "## 即時偵測影片中的人臉"
   ]
  },
  {
   "cell_type": "code",
   "execution_count": 53,
   "metadata": {
    "id": "HXVD7SWwrLY0"
   },
   "outputs": [],
   "source": [
    "cap = cv2.VideoCapture(0)            # 讀取攝影鏡頭\n",
    "# cap = cv2.VideoCapture('影片路徑')  # 讀取電腦中的影片\n",
    "\n",
    "if not cap.isOpened():\n",
    "    print(\"Camera not open!\")\n",
    "    exit()\n",
    "    \n",
    "while True:\n",
    "    ret, frame = cap.read()\n",
    "    if not ret:\n",
    "        print(\"Frame not received!\")\n",
    "        break\n",
    "    frame = cv2.resize(frame,(600,450))             \n",
    "    gray_frame = cv2.cvtColor(frame, cv2.COLOR_BGR2GRAY)   \n",
    "    faces = face_cascade.detectMultiScale(gray_frame)      # 偵測人臉\n",
    "    \n",
    "    for (x, y, w, h) in faces:\n",
    "        cv2.rectangle(frame, (x, y), (x+w, y+h), (0, 0, 255), 2)   \n",
    "    \n",
    "    cv2.imshow('face_detection', frame)\n",
    "    if cv2.waitKey(1) == ord('q'):       # 每毫秒更新一次，直到按下q結束\n",
    "        break\n",
    "cap.release()   # 所有作業都完成後，釋放資源\n",
    "cv2.destroyAllWindows()    "
   ]
  },
  {
   "cell_type": "code",
   "execution_count": null,
   "metadata": {
    "id": "kj1Iu5turLY2"
   },
   "outputs": [],
   "source": []
  }
 ],
 "metadata": {
  "accelerator": "GPU",
  "colab": {
   "provenance": []
  },
  "gpuClass": "standard",
  "kernelspec": {
   "display_name": "Python 3 (ipykernel)",
   "language": "python",
   "name": "python3"
  },
  "language_info": {
   "codemirror_mode": {
    "name": "ipython",
    "version": 3
   },
   "file_extension": ".py",
   "mimetype": "text/x-python",
   "name": "python",
   "nbconvert_exporter": "python",
   "pygments_lexer": "ipython3",
   "version": "3.9.12"
  }
 },
 "nbformat": 4,
 "nbformat_minor": 1
}
